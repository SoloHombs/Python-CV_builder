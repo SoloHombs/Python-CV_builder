{
 "cells": [
  {
   "cell_type": "markdown",
   "metadata": {},
   "source": [
    "Learning Python"
   ]
  },
  {
   "cell_type": "code",
   "execution_count": 12,
   "metadata": {},
   "outputs": [
    {
     "name": "stdout",
     "output_type": "stream",
     "text": [
      "SOLO\n",
      "Lira\n",
      "Melissa\n",
      "Taona\n",
      "Hombs\n"
     ]
    }
   ],
   "source": [
    "Hoyoh =['solo','lira','melissa','Taona','Hombs']\n",
    "for li in Hoyoh:\n",
    "    if li =='solo':\n",
    "        print(li.upper())\n",
    "    else:\n",
    "        print(li.capitalize())"
   ]
  },
  {
   "cell_type": "markdown",
   "metadata": {},
   "source": [
    "Functions"
   ]
  },
  {
   "cell_type": "code",
   "execution_count": 22,
   "metadata": {},
   "outputs": [
    {
     "name": "stdout",
     "output_type": "stream",
     "text": [
      "Hello Solo is now old wow he is just turned 40 years old today\n",
      "Solo is walking!!\n",
      "hey my name is Solo\n",
      "|----------------------------------------------------------------------------------------------------|\n",
      "Hello Clara is stil young please hamba uyo funda wena 19 years  is very few for this course please\n",
      "Clara is walking!!\n",
      "hey my name is Clara\n"
     ]
    }
   ],
   "source": [
    "# creating a class\n",
    "import pyttsx3\n",
    "class Hombs():\n",
    "    # defining a  function\n",
    "    def __init__(self,name,age):\n",
    "        self.name=name\n",
    "        self.age=age\n",
    "        # using if statement\n",
    "        if age>=20:\n",
    "            print(f'Hello {name} is now old wow he is just turned {age} years old today')\n",
    "        else:\n",
    "            print(f'Hello {name} is stil young please hamba uyo funda wena {age} years  is very few for this course please')\n",
    "            # a fuction for an object behavior\n",
    "    def walk(self):\n",
    "        print(f'{self.name} is walking!!')\n",
    "    def speak(self):\n",
    "        print(f'hey my name is {self.name}')\n",
    "\n",
    " \n",
    "# calling an object and  its behavior\n",
    "student=Hombs('Solo',40)\n",
    "student.walk()\n",
    "student.speak()\n",
    "    \n",
    "\n",
    "\n",
    "print('|----------------------------------------------------------------------------------------------------|')\n",
    "student2=Hombs('Clara',19)\n",
    "student2.walk()\n",
    "student2.speak()\n",
    "\n"
   ]
  },
  {
   "cell_type": "markdown",
   "metadata": {},
   "source": [
    "CV Building using python\n"
   ]
  },
  {
   "cell_type": "code",
   "execution_count": 49,
   "metadata": {},
   "outputs": [],
   "source": [
    "\n",
    "from docx import Document\n",
    "from docx.shared import Inches\n",
    "docfile = Document()\n",
    "name='Solo Hombs'\n",
    "phone='+263774706402/+263719706402'\n",
    "email='solohombs@outlook.com'\n",
    "# adding picture\n",
    "docfile.add_picture('my.jpeg',width=Inches(1.0))\n",
    "#adding contact\n",
    "docfile.add_paragraph((f'{name} | {phone} | {email}'))\n",
    "docfile.add_heading('Summary:')\n",
    "# adding summary\n",
    "docfile.add_paragraph('Dynamic and results-oriented ICT Graduate Trainee with hands-on experience in ICT support')\n",
    "# work exprience\n",
    "docfile.add_heading('Work Experience:')\n",
    "company='Ministry of Health & Childcare'\n",
    "company2='Choppies Supermarket'\n",
    "date='Jan 2022'\n",
    "date2='Jan 2017'\n",
    "To2='May 2018'\n",
    "To='Date'\n",
    "\n",
    "p=docfile.add_paragraph() # in order to add a paragraph inside a paragraph\n",
    "p.add_run(f'{company} ********************************************************************').bold=True\n",
    "p.add_run(f'{date}-{To} \\n').italic=True\n",
    "# adding roles on experience using while loop\n",
    "roles=input(str('enter your roles:'))\n",
    "p.add_run(f'{roles}\\n')\n",
    "while True:\n",
    "    more_roles=input(str('Do you have some roles to add 🤷‍♂️🤷‍♂️🤷‍♂️ :y/n'))\n",
    "    if more_roles=='y':\n",
    "        roles=input(str('enter your roles:'))\n",
    "        p.add_run(f'{roles}\\n')\n",
    "    else:\n",
    "        break\n",
    "    # more exeprience with while loop\n",
    "while True:\n",
    "    more_experience=input(str('Do you still have more exprience to add 🤷‍♂️🤷‍♀️🤦‍♂️ y/n? :'))\n",
    "    if more_experience=='y':\n",
    "        p.add_run(f'{company2} ***********************************************').bold=True\n",
    "        p.add_run(f'{date2}-{To2} \\n').italic=True\n",
    "        # adding roles on experience using while loop\n",
    "        roles=input(str('enter your roles:'))\n",
    "        p.add_run(f'{roles}\\n')\n",
    "        while True:\n",
    "            more_roles=input(str('Do you have some roles to add 🤷‍♂️🤷‍♂️🤷‍♂️ :y/n'))\n",
    "            if more_roles=='y':\n",
    "                roles=input(str('enter your roles:'))\n",
    "                p.add_run(f'{roles}\\n')\n",
    "            else:\n",
    "                break\n",
    "                \n",
    "    else:\n",
    "        break\n",
    "    # adding skills on my Cv\n",
    "docfile.add_heading('Skills:')   \n",
    "skill=input(str('enter your skills: '))\n",
    "p=docfile.add_paragraph(skill)\n",
    "p.style='List Bullet'\n",
    "while True:\n",
    "    more_skill=input(str('you have more skill to add y/n'))\n",
    "    if more_skill=='y':\n",
    "        skill=input(str('enter your skills: '))\n",
    "        p=docfile.add_paragraph(skill)\n",
    "        p.style='List Bullet'       \n",
    "    else:\n",
    "        break\n",
    "    \n",
    "#adding  Reference\n",
    "docfile.add_heading('References:')\n",
    "ref='References Provided on requast.'\n",
    "docfile.add_paragraph(ref)\n",
    "# addng footer on my Cv\n",
    "    \n",
    "conclusion=docfile.sections[0]\n",
    "last=conclusion.footer\n",
    "p=last.paragraphs[0]\n",
    "p.text='This CV was designed by Solo Hombs a certified Data Scientist👩‍💻👨‍💻💯💯💯'\n",
    "\n",
    "\n",
    "docfile.save('hombs.docx')\n"
   ]
  },
  {
   "cell_type": "code",
   "execution_count": 23,
   "metadata": {},
   "outputs": [],
   "source": [
    "import pyttsx3\n",
    "name='solo Hombs'\n",
    "pyttsx3.speak(f'hello {name} how are you today')"
   ]
  },
  {
   "cell_type": "code",
   "execution_count": null,
   "metadata": {},
   "outputs": [],
   "source": []
  }
 ],
 "metadata": {
  "kernelspec": {
   "display_name": "Python 3",
   "language": "python",
   "name": "python3"
  },
  "language_info": {
   "codemirror_mode": {
    "name": "ipython",
    "version": 3
   },
   "file_extension": ".py",
   "mimetype": "text/x-python",
   "name": "python",
   "nbconvert_exporter": "python",
   "pygments_lexer": "ipython3",
   "version": "3.11.5"
  }
 },
 "nbformat": 4,
 "nbformat_minor": 2
}
